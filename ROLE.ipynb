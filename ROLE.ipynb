{
 "cells": [
  {
   "attachments": {},
   "cell_type": "markdown",
   "metadata": {},
   "source": [
    "# aims\n",
    "* across group same role vs. same group across role vs. (null) across group across role\n",
    "* 리콜해내는 이벤트는 둘 중 어떤 상황에서 더 유사할까?\n",
    "* quantify1: event 간 similarity (content level)\n",
    "* quantify2: across group role\n",
    "\n",
    "1. 일단 각 그룹별 벌어졌던 이벤트를 쪼갬 (모든 그룹 sharedeb 준비)\n",
    "2. Day1 각 이벤트의 content level vector를 구함 (only nv, USE 사용) -----quantify1\n",
    "    1. USE 성능확인을 해봐야 함: 각 문장*을 넣고 pairwise vector similarity를 구하여 그것이 육안으로 확인한 내용적 유사성에 부합하는지\n",
    "    2. *각 문장: raw, exclude stopwords, only nv 이렇게 세 단계로 테스트\n",
    "3. 각 그룹의 각 이벤트에서 leader role(leader idx 1~3)을 정의하는 방법 구현(speaker와 NB_SBJ 등 구문분석 사용) -----quantify2\n",
    "4. Day1에 대한 Day2의 리콜 태깅을 불러옴\n",
    "5. 일단 각 그룹에서 전체 day1 이벤트들 대비 리콜된 이벤트들의 벡터 similarity에 특이점이 있는지 확인, across group 특이점이 있는지 확인 -----within group vector similarity가 월등히 높지 않을까 하는 걱정에서 비롯\n",
    "6. (same group across role) 리콜된 day2의 이벤트들의 day1 벡터들의 similarity 계산 -----pairwise로 전부?\n",
    "7. (across group same role) 리콜된 day2의 이벤트들의 day1 벡터들의 similarity 계산 -----pairwise로 전부; 위와 동일하게\n",
    "8. (across group across role) 리콜된 day2의 이벤트들의 day1 벡터들의 similarity 계산 -----pairwise로 전부; null로 사용"
   ]
  },
  {
   "cell_type": "code",
   "execution_count": null,
   "metadata": {},
   "outputs": [],
   "source": []
  }
 ],
 "metadata": {
  "language_info": {
   "name": "python"
  },
  "orig_nbformat": 4
 },
 "nbformat": 4,
 "nbformat_minor": 2
}
